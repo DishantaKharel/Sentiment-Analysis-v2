{
 "cells": [
  {
   "cell_type": "code",
   "execution_count": 122,
   "id": "20e99b6e-0ae2-49ca-ac0c-c8e970ba3fdb",
   "metadata": {},
   "outputs": [],
   "source": [
    "import gensim.downloader as api\n",
    "import numpy as np\n",
    "import pandas as pd\n",
    "from sklearn.metrics import classification_report\n",
    "from sklearn.linear_model import LogisticRegression\n",
    "from sklearn.model_selection import train_test_split\n",
    "import os"
   ]
  },
  {
   "cell_type": "code",
   "execution_count": 186,
   "id": "14330929-e6e4-4abe-ac16-ea2b82fda042",
   "metadata": {},
   "outputs": [
    {
     "name": "stdout",
     "output_type": "stream",
     "text": [
      "[=-------------------------------------------------] 3.2% 24.5/758.5MB downloaded"
     ]
    },
    {
     "name": "stderr",
     "output_type": "stream",
     "text": [
      "IOPub message rate exceeded.\n",
      "The Jupyter server will temporarily stop sending output\n",
      "to the client in order to avoid crashing it.\n",
      "To change this limit, set the config variable\n",
      "`--ServerApp.iopub_msg_rate_limit`.\n",
      "\n",
      "Current values:\n",
      "ServerApp.iopub_msg_rate_limit=1000.0 (msgs/sec)\n",
      "ServerApp.rate_limit_window=3.0 (secs)\n",
      "\n"
     ]
    },
    {
     "name": "stdout",
     "output_type": "stream",
     "text": [
      "[===-----------------------------------------------] 6.5% 49.3/758.5MB downloaded"
     ]
    },
    {
     "name": "stderr",
     "output_type": "stream",
     "text": [
      "IOPub message rate exceeded.\n",
      "The Jupyter server will temporarily stop sending output\n",
      "to the client in order to avoid crashing it.\n",
      "To change this limit, set the config variable\n",
      "`--ServerApp.iopub_msg_rate_limit`.\n",
      "\n",
      "Current values:\n",
      "ServerApp.iopub_msg_rate_limit=1000.0 (msgs/sec)\n",
      "ServerApp.rate_limit_window=3.0 (secs)\n",
      "\n"
     ]
    },
    {
     "name": "stdout",
     "output_type": "stream",
     "text": [
      "[================----------------------------------] 32.2% 244.0/758.5MB downloaded"
     ]
    },
    {
     "name": "stderr",
     "output_type": "stream",
     "text": [
      "IOPub message rate exceeded.\n",
      "The Jupyter server will temporarily stop sending output\n",
      "to the client in order to avoid crashing it.\n",
      "To change this limit, set the config variable\n",
      "`--ServerApp.iopub_msg_rate_limit`.\n",
      "\n",
      "Current values:\n",
      "ServerApp.iopub_msg_rate_limit=1000.0 (msgs/sec)\n",
      "ServerApp.rate_limit_window=3.0 (secs)\n",
      "\n"
     ]
    },
    {
     "name": "stdout",
     "output_type": "stream",
     "text": [
      "[==========================------------------------] 53.4% 405.4/758.5MB downloaded"
     ]
    },
    {
     "name": "stderr",
     "output_type": "stream",
     "text": [
      "IOPub message rate exceeded.\n",
      "The Jupyter server will temporarily stop sending output\n",
      "to the client in order to avoid crashing it.\n",
      "To change this limit, set the config variable\n",
      "`--ServerApp.iopub_msg_rate_limit`.\n",
      "\n",
      "Current values:\n",
      "ServerApp.iopub_msg_rate_limit=1000.0 (msgs/sec)\n",
      "ServerApp.rate_limit_window=3.0 (secs)\n",
      "\n"
     ]
    },
    {
     "name": "stdout",
     "output_type": "stream",
     "text": [
      "[=================================-----------------] 66.4% 503.4/758.5MB downloaded"
     ]
    },
    {
     "name": "stderr",
     "output_type": "stream",
     "text": [
      "IOPub message rate exceeded.\n",
      "The Jupyter server will temporarily stop sending output\n",
      "to the client in order to avoid crashing it.\n",
      "To change this limit, set the config variable\n",
      "`--ServerApp.iopub_msg_rate_limit`.\n",
      "\n",
      "Current values:\n",
      "ServerApp.iopub_msg_rate_limit=1000.0 (msgs/sec)\n",
      "ServerApp.rate_limit_window=3.0 (secs)\n",
      "\n"
     ]
    },
    {
     "name": "stdout",
     "output_type": "stream",
     "text": [
      "[==================================================] 100.0% 758.5/758.5MB downloaded\n"
     ]
    }
   ],
   "source": [
    "word_vectors = api.load(\"glove-twitter-200\") "
   ]
  },
  {
   "cell_type": "code",
   "execution_count": 187,
   "id": "7638c57c-1560-4559-9de4-2623decd6f4a",
   "metadata": {},
   "outputs": [],
   "source": [
    "def preprocess(text):\n",
    "    return [word for word in text.lower().split()]"
   ]
  },
  {
   "cell_type": "code",
   "execution_count": 188,
   "id": "126552cf-e67e-44fc-bdc7-4e2692de9837",
   "metadata": {},
   "outputs": [],
   "source": [
    "def document_vector(doc):\n",
    "    doc = [word for word in doc if word in word_vectors.key_to_index]\n",
    "    if len(doc) == 0:\n",
    "        return np.zeros(word_vectors.vector_size)\n",
    "    return np.mean(word_vectors[doc], axis=0)"
   ]
  },
  {
   "cell_type": "code",
   "execution_count": 191,
   "id": "3dd4744b-de10-455a-b761-b1ff3bc13d4c",
   "metadata": {},
   "outputs": [
    {
     "data": {
      "text/html": [
       "<div>\n",
       "<style scoped>\n",
       "    .dataframe tbody tr th:only-of-type {\n",
       "        vertical-align: middle;\n",
       "    }\n",
       "\n",
       "    .dataframe tbody tr th {\n",
       "        vertical-align: top;\n",
       "    }\n",
       "\n",
       "    .dataframe thead th {\n",
       "        text-align: right;\n",
       "    }\n",
       "</style>\n",
       "<table border=\"1\" class=\"dataframe\">\n",
       "  <thead>\n",
       "    <tr style=\"text-align: right;\">\n",
       "      <th></th>\n",
       "      <th>sentiment</th>\n",
       "      <th>review</th>\n",
       "      <th>tokens</th>\n",
       "      <th>vector</th>\n",
       "    </tr>\n",
       "  </thead>\n",
       "  <tbody>\n",
       "    <tr>\n",
       "      <th>0</th>\n",
       "      <td>0</td>\n",
       "      <td>@switchfoot http://twitpic.com/2y1zl - Awww, t...</td>\n",
       "      <td>[@switchfoot, http://twitpic.com/2y1zl, -, aww...</td>\n",
       "      <td>[0.08728404, 0.16949035, 0.15050696, 0.0520680...</td>\n",
       "    </tr>\n",
       "    <tr>\n",
       "      <th>1</th>\n",
       "      <td>0</td>\n",
       "      <td>is upset that he can't update his Facebook by ...</td>\n",
       "      <td>[is, upset, that, he, can't, update, his, face...</td>\n",
       "      <td>[0.18049781, 0.16101497, -0.0043811747, 0.0954...</td>\n",
       "    </tr>\n",
       "    <tr>\n",
       "      <th>2</th>\n",
       "      <td>0</td>\n",
       "      <td>@Kenichan I dived many times for the ball. Man...</td>\n",
       "      <td>[@kenichan, i, dived, many, times, for, the, b...</td>\n",
       "      <td>[0.21760783, 0.16113253, 0.25067896, -0.014643...</td>\n",
       "    </tr>\n",
       "    <tr>\n",
       "      <th>3</th>\n",
       "      <td>0</td>\n",
       "      <td>my whole body feels itchy and like its on fire</td>\n",
       "      <td>[my, whole, body, feels, itchy, and, like, its...</td>\n",
       "      <td>[-0.09874002, -0.211591, -0.057362698, 0.17540...</td>\n",
       "    </tr>\n",
       "    <tr>\n",
       "      <th>4</th>\n",
       "      <td>0</td>\n",
       "      <td>@nationwideclass no, it's not behaving at all....</td>\n",
       "      <td>[@nationwideclass, no,, it's, not, behaving, a...</td>\n",
       "      <td>[0.106674924, 0.371483, -0.034092028, 0.223679...</td>\n",
       "    </tr>\n",
       "    <tr>\n",
       "      <th>...</th>\n",
       "      <td>...</td>\n",
       "      <td>...</td>\n",
       "      <td>...</td>\n",
       "      <td>...</td>\n",
       "    </tr>\n",
       "    <tr>\n",
       "      <th>1599995</th>\n",
       "      <td>4</td>\n",
       "      <td>Just woke up. Having no school is the best fee...</td>\n",
       "      <td>[just, woke, up., having, no, school, is, the,...</td>\n",
       "      <td>[0.17664075, 0.19861221, 0.19899783, 0.0638722...</td>\n",
       "    </tr>\n",
       "    <tr>\n",
       "      <th>1599996</th>\n",
       "      <td>4</td>\n",
       "      <td>TheWDB.com - Very cool to hear old Walt interv...</td>\n",
       "      <td>[thewdb.com, -, very, cool, to, hear, old, wal...</td>\n",
       "      <td>[0.13821416, -0.05230285, -0.047131293, 0.1906...</td>\n",
       "    </tr>\n",
       "    <tr>\n",
       "      <th>1599997</th>\n",
       "      <td>4</td>\n",
       "      <td>Are you ready for your MoJo Makeover? Ask me f...</td>\n",
       "      <td>[are, you, ready, for, your, mojo, makeover?, ...</td>\n",
       "      <td>[0.27056298, 0.195423, -0.14965133, -0.0431367...</td>\n",
       "    </tr>\n",
       "    <tr>\n",
       "      <th>1599998</th>\n",
       "      <td>4</td>\n",
       "      <td>Happy 38th Birthday to my boo of alll time!!! ...</td>\n",
       "      <td>[happy, 38th, birthday, to, my, boo, of, alll,...</td>\n",
       "      <td>[0.102873035, 0.28568122, -0.005931119, 0.1250...</td>\n",
       "    </tr>\n",
       "    <tr>\n",
       "      <th>1599999</th>\n",
       "      <td>4</td>\n",
       "      <td>happy #charitytuesday @theNSPCC @SparksCharity...</td>\n",
       "      <td>[happy, #charitytuesday, @thenspcc, @sparkscha...</td>\n",
       "      <td>[0.34055, -0.035341, 0.17932, 0.22748, 0.518, ...</td>\n",
       "    </tr>\n",
       "  </tbody>\n",
       "</table>\n",
       "<p>1600000 rows × 4 columns</p>\n",
       "</div>"
      ],
      "text/plain": [
       "         sentiment                                             review  \\\n",
       "0                0  @switchfoot http://twitpic.com/2y1zl - Awww, t...   \n",
       "1                0  is upset that he can't update his Facebook by ...   \n",
       "2                0  @Kenichan I dived many times for the ball. Man...   \n",
       "3                0    my whole body feels itchy and like its on fire    \n",
       "4                0  @nationwideclass no, it's not behaving at all....   \n",
       "...            ...                                                ...   \n",
       "1599995          4  Just woke up. Having no school is the best fee...   \n",
       "1599996          4  TheWDB.com - Very cool to hear old Walt interv...   \n",
       "1599997          4  Are you ready for your MoJo Makeover? Ask me f...   \n",
       "1599998          4  Happy 38th Birthday to my boo of alll time!!! ...   \n",
       "1599999          4  happy #charitytuesday @theNSPCC @SparksCharity...   \n",
       "\n",
       "                                                    tokens  \\\n",
       "0        [@switchfoot, http://twitpic.com/2y1zl, -, aww...   \n",
       "1        [is, upset, that, he, can't, update, his, face...   \n",
       "2        [@kenichan, i, dived, many, times, for, the, b...   \n",
       "3        [my, whole, body, feels, itchy, and, like, its...   \n",
       "4        [@nationwideclass, no,, it's, not, behaving, a...   \n",
       "...                                                    ...   \n",
       "1599995  [just, woke, up., having, no, school, is, the,...   \n",
       "1599996  [thewdb.com, -, very, cool, to, hear, old, wal...   \n",
       "1599997  [are, you, ready, for, your, mojo, makeover?, ...   \n",
       "1599998  [happy, 38th, birthday, to, my, boo, of, alll,...   \n",
       "1599999  [happy, #charitytuesday, @thenspcc, @sparkscha...   \n",
       "\n",
       "                                                    vector  \n",
       "0        [0.08728404, 0.16949035, 0.15050696, 0.0520680...  \n",
       "1        [0.18049781, 0.16101497, -0.0043811747, 0.0954...  \n",
       "2        [0.21760783, 0.16113253, 0.25067896, -0.014643...  \n",
       "3        [-0.09874002, -0.211591, -0.057362698, 0.17540...  \n",
       "4        [0.106674924, 0.371483, -0.034092028, 0.223679...  \n",
       "...                                                    ...  \n",
       "1599995  [0.17664075, 0.19861221, 0.19899783, 0.0638722...  \n",
       "1599996  [0.13821416, -0.05230285, -0.047131293, 0.1906...  \n",
       "1599997  [0.27056298, 0.195423, -0.14965133, -0.0431367...  \n",
       "1599998  [0.102873035, 0.28568122, -0.005931119, 0.1250...  \n",
       "1599999  [0.34055, -0.035341, 0.17932, 0.22748, 0.518, ...  \n",
       "\n",
       "[1600000 rows x 4 columns]"
      ]
     },
     "execution_count": 191,
     "metadata": {},
     "output_type": "execute_result"
    }
   ],
   "source": [
    "df"
   ]
  },
  {
   "cell_type": "code",
   "execution_count": 190,
   "id": "3402ff30-d6cb-45e5-87f7-4e79d66cabd9",
   "metadata": {},
   "outputs": [],
   "source": [
    "df = df[df['review'].notnull()].copy()\n",
    "df['tokens'] = df['review'].apply(preprocess)\n",
    "df['vector'] = df['tokens'].apply(document_vector)"
   ]
  },
  {
   "cell_type": "code",
   "execution_count": 192,
   "id": "15e30525-a602-4233-b2e2-b4a2ce8671b7",
   "metadata": {},
   "outputs": [
    {
     "name": "stdout",
     "output_type": "stream",
     "text": [
      "              precision    recall  f1-score   support\n",
      "\n",
      "           0       0.74      0.74      0.74    159494\n",
      "           4       0.74      0.74      0.74    160506\n",
      "\n",
      "    accuracy                           0.74    320000\n",
      "   macro avg       0.74      0.74      0.74    320000\n",
      "weighted avg       0.74      0.74      0.74    320000\n",
      "\n"
     ]
    }
   ],
   "source": [
    "X = np.vstack(df['vector'].values)\n",
    "y = df['sentiment']\n",
    "\n",
    "X_train, X_test, y_train, y_test = train_test_split(X, y, test_size=0.2, random_state=42)\n",
    "clf = LogisticRegression(max_iter=1000, class_weight='balanced')\n",
    "clf.fit(X_train, y_train)\n",
    "\n",
    "y_pred = clf.predict(X_test)\n",
    "print(classification_report(y_test, y_pred))"
   ]
  },
  {
   "cell_type": "code",
   "execution_count": 193,
   "id": "06a2f01c-5e0a-4f5c-a005-dabb0985211b",
   "metadata": {},
   "outputs": [],
   "source": [
    "def predict_sentiment(text):\n",
    "    tokens = preprocess(text)\n",
    "    vec = document_vector(tokens).reshape(1,-1)\n",
    "    return clf.predict(vec)[0]"
   ]
  },
  {
   "cell_type": "code",
   "execution_count": 214,
   "id": "91c2a239-cf93-4f1d-b5c4-2dc45860d936",
   "metadata": {},
   "outputs": [
    {
     "name": "stdout",
     "output_type": "stream",
     "text": [
      "4\n",
      "0\n"
     ]
    }
   ],
   "source": [
    "print(predict_sentiment(\"I love this product!\"))\n",
    "print(predict_sentiment(\"This is the worst thing I bought.\"))"
   ]
  },
  {
   "cell_type": "code",
   "execution_count": null,
   "id": "15b05f19-0317-4f6d-b613-c8b17c6c1d75",
   "metadata": {},
   "outputs": [],
   "source": []
  }
 ],
 "metadata": {
  "kernelspec": {
   "display_name": "Python 3 (ipykernel)",
   "language": "python",
   "name": "python3"
  },
  "language_info": {
   "codemirror_mode": {
    "name": "ipython",
    "version": 3
   },
   "file_extension": ".py",
   "mimetype": "text/x-python",
   "name": "python",
   "nbconvert_exporter": "python",
   "pygments_lexer": "ipython3",
   "version": "3.11.9"
  }
 },
 "nbformat": 4,
 "nbformat_minor": 5
}
