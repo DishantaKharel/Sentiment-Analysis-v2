{
 "cells": [
  {
   "cell_type": "code",
   "execution_count": 59,
   "id": "20e99b6e-0ae2-49ca-ac0c-c8e970ba3fdb",
   "metadata": {},
   "outputs": [],
   "source": [
    "import gensim.downloader as api\n",
    "import numpy as np\n",
    "import pandas as pd\n",
    "from sklearn.metrics import classification_report\n",
    "from sklearn.linear_model import LogisticRegression\n",
    "from sklearn.model_selection import train_test_split"
   ]
  },
  {
   "cell_type": "code",
   "execution_count": 14,
   "id": "14330929-e6e4-4abe-ac16-ea2b82fda042",
   "metadata": {},
   "outputs": [],
   "source": [
    "word_vectors = api.load(\"word2vec-google-news-300\")"
   ]
  },
  {
   "cell_type": "code",
   "execution_count": 78,
   "id": "7638c57c-1560-4559-9de4-2623decd6f4a",
   "metadata": {},
   "outputs": [],
   "source": [
    "def preprocess(text):\n",
    "    return [word for word in text.lower().split()]"
   ]
  },
  {
   "cell_type": "code",
   "execution_count": 79,
   "id": "126552cf-e67e-44fc-bdc7-4e2692de9837",
   "metadata": {},
   "outputs": [],
   "source": [
    "def document_vector(doc):\n",
    "    doc = [word for word in doc if word in word_vectors.key_to_index]\n",
    "    if len(doc) == 0:\n",
    "        return np.zeros(word_vectors.vector_size)\n",
    "    return np.mean(word_vectors[doc], axis=0)"
   ]
  },
  {
   "cell_type": "code",
   "execution_count": 112,
   "id": "ad6b146d-a8e6-4123-877d-dede1d18dec8",
   "metadata": {},
   "outputs": [],
   "source": [
    "data = {\n",
    "    \"review\": [\n",
    "        \"I love this product! It works great and is exactly what I needed.\",\n",
    "        \"Terrible quality, broke after one use.\",\n",
    "        \"It tasted so bad.\",\n",
    "        \"I am very disappointed with the quality.\",\n",
    "        \"Average experience, nothing special.\",\n",
    "        \"Excellent value for money.\",\n",
    "        \"Excellent joke worth it.\",\n",
    "        \"Not worth the price.\",\n",
    "        \"Pretty good, but could be better.\",\n",
    "        \"I don't think i will come again.\",\n",
    "        \"This product is very bad.\",\n",
    "        \"I don't think i will come again.\",\n",
    "        \"This product is very bad.\",\n",
    "        \"Excellent value for money.\",\n",
    "        \"Excellent joke worth it.\",\n",
    "    ],\n",
    "    \"sentiment\": [\n",
    "        \"positive\",\n",
    "        \"negative\",\n",
    "        \"negative\",\n",
    "        \"negative\",\n",
    "        \"positive\",\n",
    "        \"positive\",\n",
    "        \"positive\",\n",
    "        \"negative\",\n",
    "        \"positive\",\n",
    "        \"negative\",\n",
    "        \"negative\",\n",
    "        \"negative\",\n",
    "        \"negative\",\n",
    "        \"positive\",\n",
    "        \"positive\",\n",
    "    ]\n",
    "}\n",
    "df = pd.DataFrame(data)\n"
   ]
  },
  {
   "cell_type": "code",
   "execution_count": 113,
   "id": "3402ff30-d6cb-45e5-87f7-4e79d66cabd9",
   "metadata": {},
   "outputs": [],
   "source": [
    "\n",
    "df['tokens'] = df['review'].apply(preprocess)\n",
    "df['vector'] = df['tokens'].apply(document_vector)"
   ]
  },
  {
   "cell_type": "code",
   "execution_count": 115,
   "id": "15e30525-a602-4233-b2e2-b4a2ce8671b7",
   "metadata": {},
   "outputs": [
    {
     "name": "stdout",
     "output_type": "stream",
     "text": [
      "              precision    recall  f1-score   support\n",
      "\n",
      "    negative       0.67      1.00      0.80         2\n",
      "    positive       0.00      0.00      0.00         1\n",
      "\n",
      "    accuracy                           0.67         3\n",
      "   macro avg       0.33      0.50      0.40         3\n",
      "weighted avg       0.44      0.67      0.53         3\n",
      "\n"
     ]
    },
    {
     "name": "stderr",
     "output_type": "stream",
     "text": [
      "C:\\Users\\Dishant\\Desktop\\Python\\Sklearn-Practice\\.venv\\Lib\\site-packages\\sklearn\\metrics\\_classification.py:1565: UndefinedMetricWarning: Precision is ill-defined and being set to 0.0 in labels with no predicted samples. Use `zero_division` parameter to control this behavior.\n",
      "  _warn_prf(average, modifier, f\"{metric.capitalize()} is\", len(result))\n",
      "C:\\Users\\Dishant\\Desktop\\Python\\Sklearn-Practice\\.venv\\Lib\\site-packages\\sklearn\\metrics\\_classification.py:1565: UndefinedMetricWarning: Precision is ill-defined and being set to 0.0 in labels with no predicted samples. Use `zero_division` parameter to control this behavior.\n",
      "  _warn_prf(average, modifier, f\"{metric.capitalize()} is\", len(result))\n",
      "C:\\Users\\Dishant\\Desktop\\Python\\Sklearn-Practice\\.venv\\Lib\\site-packages\\sklearn\\metrics\\_classification.py:1565: UndefinedMetricWarning: Precision is ill-defined and being set to 0.0 in labels with no predicted samples. Use `zero_division` parameter to control this behavior.\n",
      "  _warn_prf(average, modifier, f\"{metric.capitalize()} is\", len(result))\n"
     ]
    }
   ],
   "source": [
    "X = np.vstack(df['vector'].values)\n",
    "y = df['sentiment']\n",
    "\n",
    "X_train, X_test, y_train, y_test = train_test_split(X, y, test_size=0.2, random_state=42)\n",
    "clf = LogisticRegression(max_iter=1000)\n",
    "clf.fit(X_train, y_train)\n",
    "\n",
    "y_pred = clf.predict(X_test)\n",
    "print(classification_report(y_test, y_pred))"
   ]
  },
  {
   "cell_type": "code",
   "execution_count": 117,
   "id": "06a2f01c-5e0a-4f5c-a005-dabb0985211b",
   "metadata": {},
   "outputs": [],
   "source": [
    "def predict_sentiment(text):\n",
    "    tokens = preprocess(text)\n",
    "    vec = document_vector(tokens).reshape(1,-1)\n",
    "    return clf.predict(vec)[0]"
   ]
  },
  {
   "cell_type": "code",
   "execution_count": 120,
   "id": "34ca70e8-db04-4cc0-bb3f-7acd63ebbb30",
   "metadata": {},
   "outputs": [
    {
     "name": "stdout",
     "output_type": "stream",
     "text": [
      "negative\n"
     ]
    }
   ],
   "source": []
  },
  {
   "cell_type": "code",
   "execution_count": null,
   "id": "cb605a6d-bfc3-47b0-b4a2-f1a12e541c16",
   "metadata": {},
   "outputs": [],
   "source": []
  }
 ],
 "metadata": {
  "kernelspec": {
   "display_name": "Python 3 (ipykernel)",
   "language": "python",
   "name": "python3"
  },
  "language_info": {
   "codemirror_mode": {
    "name": "ipython",
    "version": 3
   },
   "file_extension": ".py",
   "mimetype": "text/x-python",
   "name": "python",
   "nbconvert_exporter": "python",
   "pygments_lexer": "ipython3",
   "version": "3.11.9"
  }
 },
 "nbformat": 4,
 "nbformat_minor": 5
}
